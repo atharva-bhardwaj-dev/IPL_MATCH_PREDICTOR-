# IPL Match Prediction Demo

from match_predictor import CorrectedIPLNeuralPredictor

predictor = CorrectedIPLNeuralPredictor(data_path="IPL-Player-Stat.csv")

team1 = ['F du Plessis', 'V Kohli', 'GJ Maxwell', 'D Padikkal', 'Anuj Rawat']
team2 = ['S Dhawan', 'LS Livingstone', 'SM Curran', 'K Rabada', 'Arshdeep Singh']

result = predictor.predict_match_winner(team1, team2)
print(result)
